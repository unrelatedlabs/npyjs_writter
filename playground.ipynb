{
 "cells": [
  {
   "cell_type": "code",
   "execution_count": 1,
   "metadata": {
    "collapsed": true
   },
   "outputs": [],
   "source": [
    "import numpy as np\n"
   ]
  },
  {
   "cell_type": "code",
   "execution_count": 25,
   "metadata": {
    "collapsed": true
   },
   "outputs": [],
   "source": [
    "a = np.array([12,12,12])\n",
    "r = np.rec.array(a,dtype=np.dtype([(\"timestamp\",\"i4\")]))\n",
    "np.save(\"sample.npy\",r)"
   ]
  },
  {
   "cell_type": "code",
   "execution_count": 26,
   "metadata": {},
   "outputs": [
    {
     "data": {
      "text/plain": [
       "array([(12,), (12,), (12,)], \n",
       "      dtype=[('timestamp', '<i4')])"
      ]
     },
     "execution_count": 26,
     "metadata": {},
     "output_type": "execute_result"
    }
   ],
   "source": [
    "np.load(\"test.npy\")"
   ]
  },
  {
   "cell_type": "code",
   "execution_count": 27,
   "metadata": {},
   "outputs": [],
   "source": [
    "dt = np.dtype( [('timestamp', '<u4'),\n",
    " ('flags', '<u4'),\n",
    " ('accelerometer', '<i2', (3,)),\n",
    " ('gyro', '<i2', (3,)),\n",
    " ('channels', '<u2', (2, 2)),\n",
    " ('baseline', '<u2'),\n",
    " ('battery_voltage', '<u2')]\n",
    "        )"
   ]
  },
  {
   "cell_type": "code",
   "execution_count": 28,
   "metadata": {},
   "outputs": [
    {
     "data": {
      "text/plain": [
       "32"
      ]
     },
     "execution_count": 28,
     "metadata": {},
     "output_type": "execute_result"
    }
   ],
   "source": [
    "dt.itemsize"
   ]
  },
  {
   "cell_type": "code",
   "execution_count": 29,
   "metadata": {
    "collapsed": true
   },
   "outputs": [],
   "source": [
    "a2 = np.array([12,12,12])\n",
    "a22 = np.array([12,12,12])\n",
    "r2 = np.rec.array([a2,a22],dtype=np.dtype([(\"timestamp\",\"i4\"),(\"timestamp2\",\"i4\")]))\n",
    "np.save(\"sample2.npy\",r2)"
   ]
  },
  {
   "cell_type": "code",
   "execution_count": 30,
   "metadata": {
    "collapsed": true
   },
   "outputs": [],
   "source": [
    "aa = np.load(\"sample2.npy\")"
   ]
  },
  {
   "cell_type": "code",
   "execution_count": 31,
   "metadata": {},
   "outputs": [
    {
     "data": {
      "text/plain": [
       "array([(12, 12), (12, 12), (12, 12)], \n",
       "      dtype=[('timestamp', '<i4'), ('timestamp2', '<i4')])"
      ]
     },
     "execution_count": 31,
     "metadata": {},
     "output_type": "execute_result"
    }
   ],
   "source": [
    "aa"
   ]
  },
  {
   "cell_type": "code",
   "execution_count": 32,
   "metadata": {},
   "outputs": [
    {
     "data": {
      "text/plain": [
       "[('timestamp', '<i4'), ('timestamp2', '<i4')]"
      ]
     },
     "execution_count": 32,
     "metadata": {},
     "output_type": "execute_result"
    }
   ],
   "source": [
    "r2.dtype.descr"
   ]
  },
  {
   "cell_type": "code",
   "execution_count": 34,
   "metadata": {},
   "outputs": [],
   "source": [
    "dd = np.dtype([('timestamp', '<u4'), ('flags', '<u4'), ('accelerometer', '<i2', (3,)), ('gyro', '<i2', (3,)), ('channels', '<u2', (2, 2)), ('baseline', '<u2'), ('battery_voltage', '<u2')])"
   ]
  },
  {
   "cell_type": "code",
   "execution_count": 35,
   "metadata": {},
   "outputs": [
    {
     "data": {
      "text/plain": [
       "dtype([('timestamp', '<u4'), ('flags', '<u4'), ('accelerometer', '<i2', (3,)), ('gyro', '<i2', (3,)), ('channels', '<u2', (2, 2)), ('baseline', '<u2'), ('battery_voltage', '<u2')])"
      ]
     },
     "execution_count": 35,
     "metadata": {},
     "output_type": "execute_result"
    }
   ],
   "source": [
    "dd\n",
    "\n"
   ]
  },
  {
   "cell_type": "code",
   "execution_count": 38,
   "metadata": {},
   "outputs": [
    {
     "data": {
      "text/plain": [
       "\"[('timestamp', '<u4'),\\n ('flags', '<u4'),\\n ('accelerometer', '<i2', (3,)),\\n ('gyro', '<i2', (3,)),\\n ('channels', '<u2', (2, 2)),\\n ('baseline', '<u2'),\\n ('battery_voltage', '<u2')]\""
      ]
     },
     "execution_count": 38,
     "metadata": {},
     "output_type": "execute_result"
    }
   ],
   "source": [
    "import pprint\n",
    "pprint.pformat(dd.descr)\n"
   ]
  },
  {
   "cell_type": "code",
   "execution_count": null,
   "metadata": {
    "collapsed": true
   },
   "outputs": [],
   "source": []
  }
 ],
 "metadata": {
  "kernelspec": {
   "display_name": "Python [default]",
   "language": "python",
   "name": "python2"
  },
  "language_info": {
   "codemirror_mode": {
    "name": "ipython",
    "version": 2
   },
   "file_extension": ".py",
   "mimetype": "text/x-python",
   "name": "python",
   "nbconvert_exporter": "python",
   "pygments_lexer": "ipython2",
   "version": "2.7.13"
  }
 },
 "nbformat": 4,
 "nbformat_minor": 2
}
