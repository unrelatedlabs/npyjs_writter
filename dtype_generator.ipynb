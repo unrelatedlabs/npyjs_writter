{
 "cells": [
  {
   "cell_type": "code",
   "execution_count": 1,
   "metadata": {
    "collapsed": true
   },
   "outputs": [],
   "source": [
    "import numpy as np"
   ]
  },
  {
   "cell_type": "code",
   "execution_count": 2,
   "metadata": {},
   "outputs": [],
   "source": [
    "testtype = np.dtype([(\"flag1\",\"?\"),(\"flag2\",\"?\")])"
   ]
  },
  {
   "cell_type": "code",
   "execution_count": 3,
   "metadata": {},
   "outputs": [
    {
     "data": {
      "text/plain": [
       "dtype([('flag1', '?'), ('flag2', '?')])"
      ]
     },
     "execution_count": 3,
     "metadata": {},
     "output_type": "execute_result"
    }
   ],
   "source": [
    "testtype"
   ]
  },
  {
   "cell_type": "code",
   "execution_count": 4,
   "metadata": {},
   "outputs": [
    {
     "data": {
      "text/plain": [
       "2"
      ]
     },
     "execution_count": 4,
     "metadata": {},
     "output_type": "execute_result"
    }
   ],
   "source": [
    "testtype.itemsize"
   ]
  },
  {
   "cell_type": "code",
   "execution_count": 5,
   "metadata": {},
   "outputs": [
    {
     "data": {
      "text/plain": [
       "dtype([('f0', '<i4'), ('f1', '<f8', (2, 3))])"
      ]
     },
     "execution_count": 5,
     "metadata": {},
     "output_type": "execute_result"
    }
   ],
   "source": [
    "np.dtype(\"i4, (2,3)f8\")"
   ]
  },
  {
   "cell_type": "code",
   "execution_count": 6,
   "metadata": {},
   "outputs": [],
   "source": [
    "dt1 = np.dtype([('timestamp', np.uint32),('imutimestamp', np.uint32), ('accelerometer', np.int16,3), ('gyro', np.int16,3), ('data', np.uint16,5*1),('reference',np.uint16)])"
   ]
  },
  {
   "cell_type": "code",
   "execution_count": 7,
   "metadata": {},
   "outputs": [
    {
     "data": {
      "text/plain": [
       "[('timestamp', '<u4'),\n",
       " ('imutimestamp', '<u4'),\n",
       " ('accelerometer', '<i2', (3,)),\n",
       " ('gyro', '<i2', (3,)),\n",
       " ('data', '<u2', (5,)),\n",
       " ('reference', '<u2')]"
      ]
     },
     "execution_count": 7,
     "metadata": {},
     "output_type": "execute_result"
    }
   ],
   "source": [
    "dt1.descr"
   ]
  },
  {
   "cell_type": "code",
   "execution_count": 8,
   "metadata": {},
   "outputs": [],
   "source": [
    "dt2 = np.dtype(\n",
    "            [('timestamp', 'f4'), ('level', 'u4'), ('channels', [('Cb', 'u1'), ('Cr', 'u1'), ('Y', 'u4')], (4)),\n",
    "             ('accelerometer', 'f4', (3)), ('gyroscope', 'f4', (3))])"
   ]
  },
  {
   "cell_type": "code",
   "execution_count": 9,
   "metadata": {},
   "outputs": [
    {
     "data": {
      "text/plain": [
       "dtype([('timestamp', '<f4'), ('level', '<u4'), ('channels', [('Cb', 'u1'), ('Cr', 'u1'), ('Y', '<u4')], (4,)), ('accelerometer', '<f4', (3,)), ('gyroscope', '<f4', (3,))])"
      ]
     },
     "execution_count": 9,
     "metadata": {},
     "output_type": "execute_result"
    }
   ],
   "source": [
    "dt2"
   ]
  },
  {
   "cell_type": "code",
   "execution_count": 10,
   "metadata": {},
   "outputs": [
    {
     "data": {
      "text/plain": [
       "[('timestamp', '<f4'),\n",
       " ('level', '<u4'),\n",
       " ('channels', [('Cb', '|u1'), ('Cr', '|u1'), ('Y', '<u4')], (4,)),\n",
       " ('accelerometer', '<f4', (3,)),\n",
       " ('gyroscope', '<f4', (3,))]"
      ]
     },
     "execution_count": 10,
     "metadata": {},
     "output_type": "execute_result"
    }
   ],
   "source": [
    "dt2.descr"
   ]
  },
  {
   "cell_type": "code",
   "execution_count": 11,
   "metadata": {
    "collapsed": true
   },
   "outputs": [],
   "source": [
    "import json\n",
    "\n"
   ]
  },
  {
   "cell_type": "code",
   "execution_count": 12,
   "metadata": {},
   "outputs": [
    {
     "data": {
      "text/plain": [
       "'[[\"timestamp\", \"<f4\"], [\"level\", \"<u4\"], [\"channels\", [[\"Cb\", \"|u1\"], [\"Cr\", \"|u1\"], [\"Y\", \"<u4\"]], [4]], [\"accelerometer\", \"<f4\", [3]], [\"gyroscope\", \"<f4\", [3]]]'"
      ]
     },
     "execution_count": 12,
     "metadata": {},
     "output_type": "execute_result"
    }
   ],
   "source": [
    "json.dumps(dt2.descr)"
   ]
  },
  {
   "cell_type": "code",
   "execution_count": 13,
   "metadata": {},
   "outputs": [
    {
     "data": {
      "text/plain": [
       "[('timestamp', '<f4'),\n",
       " ('level', '<u4'),\n",
       " ('channels', [('Cb', '|u1'), ('Cr', '|u1'), ('Y', '<u4')], (4,)),\n",
       " ('accelerometer', '<f4', (3,)),\n",
       " ('gyroscope', '<f4', (3,))]"
      ]
     },
     "execution_count": 13,
     "metadata": {},
     "output_type": "execute_result"
    }
   ],
   "source": [
    "dt2.descr"
   ]
  },
  {
   "cell_type": "code",
   "execution_count": 14,
   "metadata": {},
   "outputs": [
    {
     "data": {
      "text/plain": [
       "[('', '>i4')]"
      ]
     },
     "execution_count": 14,
     "metadata": {},
     "output_type": "execute_result"
    }
   ],
   "source": [
    "np.dtype(\">i4\").descr"
   ]
  },
  {
   "cell_type": "code",
   "execution_count": 15,
   "metadata": {},
   "outputs": [],
   "source": [
    "t = type(1)"
   ]
  },
  {
   "cell_type": "code",
   "execution_count": 16,
   "metadata": {},
   "outputs": [
    {
     "name": "stdout",
     "output_type": "stream",
     "text": [
      "('>i4', '>', 'i4', 'i', 4, 'int32_t')\n",
      "('>i4', '>', 'i4', 'i', 4, 'int32_t')\n",
      "('<i4', '<', 'i4', 'i', 4, 'int32_t')\n",
      "('<i2', '<', 'i2', 'i', 2, 'int16_t')\n",
      "('>u4', '>', 'u4', 'u', 4, 'uint32_t')\n",
      "('>u2', '>', 'u2', 'u', 2, 'uint16_t')\n",
      "('|u1', '|', 'u1', 'u', 1, 'uint8_t')\n",
      "('<u2', '<', 'u2', 'u', 2, 'uint16_t')\n",
      "('|i1', '|', 'i1', 'i', 1, 'int8_t')\n",
      "('|u1', '|', 'u1', 'u', 1, 'uint8_t')\n",
      "('<i4', '<', 'i4', 'i', 4, 'int32_t')\n",
      "('|b1', '|', 'b1', 'b', 1, None)\n"
     ]
    },
    {
     "data": {
      "text/plain": [
       "dtype([('timestamp', '<u4'), ('imutimestamp', '<u4'), ('accelerometer', '<i2', (3,)), ('gyro', '<i2', (3,)), ('data', '<u2', (5,)), ('reference', '<u2')])"
      ]
     },
     "execution_count": 16,
     "metadata": {},
     "output_type": "execute_result"
    }
   ],
   "source": [
    "def scalar_to_ctype(dt):\n",
    "    # https://docs.scipy.org/doc/numpy-1.13.0/reference/arrays.dtypes.html\n",
    "    \n",
    "    ctypes = {\n",
    "        \"i4\":\"int32_t\",\n",
    "        \"i2\":\"int16_t\",\n",
    "        \"i1\":\"int8_t\",\n",
    "        \"u4\":\"uint32_t\",\n",
    "        \"u2\":\"uint16_t\",\n",
    "        \"u1\":\"uint8_t\",\n",
    "        \"f4\":\"float\",\n",
    "        \"f8\":\"double\",\n",
    "    }\n",
    "    \n",
    "    endianes = dt[0]\n",
    "    t = dt[1:]\n",
    "    \n",
    "    if endianes not in \"|=><\":\n",
    "        t = dt\n",
    "        endianes = \"=\"\n",
    "    \n",
    "    typecode = t[0]\n",
    "    size = 1\n",
    "    if len(t) > 1:\n",
    "        size = int(t[1])\n",
    "    \n",
    "    ctype = ctypes.get(t);\n",
    "    print(dt,endianes,t,typecode,size,ctype)\n",
    "    return ctype\n",
    "    \n",
    "scalar_to_ctype(np.dtype(\">i4\").descr[0][1])\n",
    "scalar_to_ctype(np.dtype(\">i\").descr[0][1])\n",
    "scalar_to_ctype(np.dtype(\"i\").descr[0][1])\n",
    "scalar_to_ctype(np.dtype(\"<i2\").descr[0][1])\n",
    "scalar_to_ctype(np.dtype(\">u4\").descr[0][1])\n",
    "scalar_to_ctype(np.dtype(\">u2\").descr[0][1])\n",
    "scalar_to_ctype(np.dtype(\"u1\").descr[0][1])\n",
    "scalar_to_ctype(np.dtype(\"<u2\").descr[0][1])\n",
    "scalar_to_ctype(np.dtype(\"b\").descr[0][1])\n",
    "scalar_to_ctype(np.dtype(\"B\").descr[0][1])\n",
    "scalar_to_ctype(np.dtype(\"=i\").descr[0][1])\n",
    "scalar_to_ctype(np.dtype(\"?\").descr[0][1])\n",
    "\n",
    "\n",
    "dt1"
   ]
  },
  {
   "cell_type": "code",
   "execution_count": 17,
   "metadata": {},
   "outputs": [
    {
     "name": "stdout",
     "output_type": "stream",
     "text": [
      "('<u4', '<', 'u4', 'u', 4, 'uint32_t')\n",
      "('<u4', '<', 'u4', 'u', 4, 'uint32_t')\n",
      "('<i2', '<', 'i2', 'i', 2, 'int16_t')\n",
      "('<i2', '<', 'i2', 'i', 2, 'int16_t')\n",
      "('<u2', '<', 'u2', 'u', 2, 'uint16_t')\n",
      "('<u2', '<', 'u2', 'u', 2, 'uint16_t')\n"
     ]
    },
    {
     "data": {
      "text/plain": [
       "[['timestamp', 'uint32_t', None],\n",
       " ['imutimestamp', 'uint32_t', None],\n",
       " ['accelerometer', 'int16_t', (3,)],\n",
       " ['gyro', 'int16_t', (3,)],\n",
       " ['data', 'uint16_t', (5,)],\n",
       " ['reference', 'uint16_t', None]]"
      ]
     },
     "execution_count": 17,
     "metadata": {},
     "output_type": "execute_result"
    }
   ],
   "source": [
    "\n",
    "    \n",
    "def cstruct_from_dtype(dt):\n",
    "    cstruct = []\n",
    "    if hasattr(dt,\"descr\"):\n",
    "        descr = dt.descr\n",
    "    else:\n",
    "        descr = dt\n",
    "        \n",
    "#     print(descr)\n",
    "    for item in descr:\n",
    "#         print(item)\n",
    "        name = item[0]\n",
    "        t = item[1]\n",
    "        shape = None\n",
    "        \n",
    "        if len(item) > 2:\n",
    "            shape = item[2]\n",
    "        \n",
    "        if isinstance(t,list):\n",
    "            ctype = cstruct_from_dtype(t)\n",
    "        else:\n",
    "            ctype = scalar_to_ctype(t)\n",
    "            \n",
    "#         print(name,t,ctype)\n",
    "        cstruct.append([name,ctype,shape])\n",
    "    return cstruct\n",
    "\n",
    "\n",
    "struct = cstruct_from_dtype(dt1)\n",
    "struct"
   ]
  },
  {
   "cell_type": "code",
   "execution_count": 2,
   "metadata": {},
   "outputs": [
    {
     "ename": "NameError",
     "evalue": "name 'cstruct_from_dtype' is not defined",
     "output_type": "error",
     "traceback": [
      "\u001b[0;31m---------------------------------------------------------------------------\u001b[0m",
      "\u001b[0;31mNameError\u001b[0m                                 Traceback (most recent call last)",
      "\u001b[0;32m<ipython-input-2-bc42d76ba2e0>\u001b[0m in \u001b[0;36m<module>\u001b[0;34m()\u001b[0m\n\u001b[0;32m----> 1\u001b[0;31m \u001b[0mstruct2\u001b[0m \u001b[0;34m=\u001b[0m \u001b[0mcstruct_from_dtype\u001b[0m\u001b[0;34m(\u001b[0m\u001b[0mdt2\u001b[0m\u001b[0;34m)\u001b[0m\u001b[0;34m\u001b[0m\u001b[0m\n\u001b[0m\u001b[1;32m      2\u001b[0m \u001b[0mstruct2\u001b[0m\u001b[0;34m\u001b[0m\u001b[0m\n",
      "\u001b[0;31mNameError\u001b[0m: name 'cstruct_from_dtype' is not defined"
     ]
    }
   ],
   "source": [
    "struct2 = cstruct_from_dtype(dt2)\n",
    "struct2"
   ]
  },
  {
   "cell_type": "code",
   "execution_count": 19,
   "metadata": {},
   "outputs": [
    {
     "name": "stdout",
     "output_type": "stream",
     "text": [
      "struct {\n",
      "    uint32_t timestamp;\n",
      "    uint32_t imutimestamp;\n",
      "    int16_t accelerometer[3];\n",
      "    int16_t gyro[3];\n",
      "    uint16_t data[5];\n",
      "    uint16_t reference;    \n",
      "} test;\n"
     ]
    }
   ],
   "source": [
    "def format_cstruct(cstruct, name=None, indent=4):\n",
    "    out = \"struct {\\n\"\n",
    "    def format_declaration(name,type_,shape):\n",
    "        #print(type_,name)\n",
    "        if isinstance(type_,list):\n",
    "            type_= format_cstruct(type_)\n",
    "            print(type)\n",
    "        \n",
    "        type_ = \"\\n\".join(map(lambda line: \" \"*indent + line ,  type_.split(\"\\n\")))\n",
    "        \n",
    "        if shape is not None:\n",
    "            name = name + \"\".join(map(lambda d: \"[\" + str(d) + \"]\",list(shape)))\n",
    "        \n",
    "        return type_ + \" \" + name +\";\";\n",
    "        \n",
    "    out = out + \"\\n\".join(map( lambda d: format_declaration(*d) , cstruct ))\n",
    "    \n",
    "    out = out +  \" \"*indent + \"\\n}\" \n",
    "    if name is not None:\n",
    "        out = out + \" \" + name \n",
    "    out += \";\"\n",
    "    return out\n",
    "    \n",
    " \n",
    "c = format_cstruct(struct,name=\"test\")\n",
    "print(c)"
   ]
  },
  {
   "cell_type": "code",
   "execution_count": 20,
   "metadata": {},
   "outputs": [
    {
     "name": "stdout",
     "output_type": "stream",
     "text": [
      "<type 'type'>\n",
      "struct {\n",
      "    float timestamp;\n",
      "    uint32_t level;\n",
      "    struct {\n",
      "        uint8_t Cb;\n",
      "        uint8_t Cr;\n",
      "        uint32_t Y;    \n",
      "    }; channels[4];\n",
      "    float accelerometer[3];\n",
      "    float gyroscope[3];    \n",
      "};\n"
     ]
    }
   ],
   "source": [
    "c = format_cstruct(struct2)\n",
    "print(c)"
   ]
  },
  {
   "cell_type": "code",
   "execution_count": 21,
   "metadata": {},
   "outputs": [],
   "source": [
    "a = np.array([1,2,3])"
   ]
  },
  {
   "cell_type": "code",
   "execution_count": 22,
   "metadata": {},
   "outputs": [
    {
     "data": {
      "text/plain": [
       "rec.array([(  1.40129846e-45,), (  0.00000000e+00,), (  2.80259693e-45,),\n",
       " (  0.00000000e+00,), (  4.20389539e-45,), (  0.00000000e+00,)], \n",
       "          dtype=[('test', '<f4')])"
      ]
     },
     "execution_count": 22,
     "metadata": {},
     "output_type": "execute_result"
    }
   ],
   "source": [
    "r = np.rec.array(a,dtype=np.dtype([(\"test\",\"f4\")]))\n",
    "r"
   ]
  },
  {
   "cell_type": "code",
   "execution_count": 23,
   "metadata": {},
   "outputs": [
    {
     "data": {
      "text/plain": [
       "array([  1.40129846e-45,   0.00000000e+00,   2.80259693e-45,\n",
       "         0.00000000e+00,   4.20389539e-45,   0.00000000e+00], dtype=float32)"
      ]
     },
     "execution_count": 23,
     "metadata": {},
     "output_type": "execute_result"
    }
   ],
   "source": [
    "r[\"test\"]"
   ]
  },
  {
   "cell_type": "code",
   "execution_count": 24,
   "metadata": {},
   "outputs": [
    {
     "ename": "TypeError",
     "evalue": "save() got an unexpected keyword argument 'fortran_order'",
     "output_type": "error",
     "traceback": [
      "\u001b[0;31m---------------------------------------------------------------------------\u001b[0m",
      "\u001b[0;31mTypeError\u001b[0m                                 Traceback (most recent call last)",
      "\u001b[0;32m<ipython-input-24-37815816af0f>\u001b[0m in \u001b[0;36m<module>\u001b[0;34m()\u001b[0m\n\u001b[0;32m----> 1\u001b[0;31m \u001b[0mnp\u001b[0m\u001b[0;34m.\u001b[0m\u001b[0msave\u001b[0m\u001b[0;34m(\u001b[0m\u001b[0;34m\"test.npy\"\u001b[0m\u001b[0;34m,\u001b[0m\u001b[0mr\u001b[0m\u001b[0;34m,\u001b[0m\u001b[0mfortran_order\u001b[0m\u001b[0;34m=\u001b[0m\u001b[0;36m1\u001b[0m\u001b[0;34m)\u001b[0m\u001b[0;34m\u001b[0m\u001b[0m\n\u001b[0m",
      "\u001b[0;31mTypeError\u001b[0m: save() got an unexpected keyword argument 'fortran_order'"
     ]
    }
   ],
   "source": [
    "np.save(\"test.npy\",r,fortran_order=1)"
   ]
  },
  {
   "cell_type": "code",
   "execution_count": 25,
   "metadata": {
    "collapsed": true
   },
   "outputs": [],
   "source": [
    "with open(\"test.npy\",\"rb\") as b:\n",
    "    npy = b.read()\n",
    "    "
   ]
  },
  {
   "cell_type": "code",
   "execution_count": 26,
   "metadata": {},
   "outputs": [
    {
     "data": {
      "text/plain": [
       "\"\\x93NUMPY\\x01\\x00V\\x00{'descr': [('test', '<f4')], 'fortran_order': False, 'shape': (6,), }                \\n\\x01\\x00\\x00\\x00\\x00\\x00\\x00\\x00\\x02\\x00\\x00\\x00\\x00\\x00\\x00\\x00\\x03\\x00\\x00\\x00\\x00\\x00\\x00\\x00\""
      ]
     },
     "execution_count": 26,
     "metadata": {},
     "output_type": "execute_result"
    }
   ],
   "source": [
    "npy"
   ]
  },
  {
   "cell_type": "code",
   "execution_count": 27,
   "metadata": {
    "collapsed": true
   },
   "outputs": [],
   "source": [
    "c = \"\"\"\n",
    "#define AZHRSignalGrid 2\n",
    "\n",
    "\n",
    "typedef struct{\n",
    "    float timestamp;\n",
    "    uint32_t level;\n",
    "    AZHRColorChannel_t channels[AZHRSignalGrid*AZHRSignalGrid];\n",
    "    float accelerometer[3];\n",
    "    float gyroscope[3];\n",
    "} AZHRSignal_t;\n",
    "\n",
    "\"\"\""
   ]
  },
  {
   "cell_type": "code",
   "execution_count": 34,
   "metadata": {},
   "outputs": [
    {
     "name": "stdout",
     "output_type": "stream",
     "text": [
      "\n",
      "#define AZHRSignalGrid 2\n",
      "\n",
      "\n",
      "typedef struct{\n",
      "    float timestamp;\n",
      "    uint32_t level;\n",
      "    AZHRColorChannel_t channels[AZHRSignalGrid*AZHRSignalGrid];\n",
      "    float accelerometer[3];\n",
      "    float gyroscope[3];\n",
      "} AZHRSignal_t;\n",
      "\n",
      "\n"
     ]
    }
   ],
   "source": [
    "print(c)"
   ]
  },
  {
   "cell_type": "code",
   "execution_count": null,
   "metadata": {},
   "outputs": [],
   "source": []
  },
  {
   "cell_type": "code",
   "execution_count": 32,
   "metadata": {
    "collapsed": true
   },
   "outputs": [],
   "source": []
  },
  {
   "cell_type": "code",
   "execution_count": 33,
   "metadata": {},
   "outputs": [
    {
     "data": {
      "text/plain": [
       "\"{'1': (1,)}\""
      ]
     },
     "execution_count": 33,
     "metadata": {},
     "output_type": "execute_result"
    }
   ],
   "source": []
  },
  {
   "cell_type": "code",
   "execution_count": null,
   "metadata": {
    "collapsed": true
   },
   "outputs": [],
   "source": []
  },
  {
   "cell_type": "code",
   "execution_count": null,
   "metadata": {
    "collapsed": true
   },
   "outputs": [],
   "source": []
  },
  {
   "cell_type": "code",
   "execution_count": null,
   "metadata": {
    "collapsed": true
   },
   "outputs": [],
   "source": []
  },
  {
   "cell_type": "code",
   "execution_count": null,
   "metadata": {
    "collapsed": true
   },
   "outputs": [],
   "source": []
  },
  {
   "cell_type": "code",
   "execution_count": null,
   "metadata": {
    "collapsed": true
   },
   "outputs": [],
   "source": []
  },
  {
   "cell_type": "code",
   "execution_count": null,
   "metadata": {
    "collapsed": true
   },
   "outputs": [],
   "source": []
  }
 ],
 "metadata": {
  "anaconda-cloud": {},
  "kernelspec": {
   "display_name": "Python [default]",
   "language": "python",
   "name": "python2"
  },
  "language_info": {
   "codemirror_mode": {
    "name": "ipython",
    "version": 2
   },
   "file_extension": ".py",
   "mimetype": "text/x-python",
   "name": "python",
   "nbconvert_exporter": "python",
   "pygments_lexer": "ipython2",
   "version": "2.7.13"
  }
 },
 "nbformat": 4,
 "nbformat_minor": 1
}
